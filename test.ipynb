{
 "cells": [
  {
   "cell_type": "code",
   "execution_count": 26,
   "metadata": {},
   "outputs": [
    {
     "data": {
      "text/plain": [
       "True"
      ]
     },
     "execution_count": 26,
     "metadata": {},
     "output_type": "execute_result"
    }
   ],
   "source": [
    "from dotenv import load_dotenv\n",
    "\n",
    "\n",
    "load_dotenv()"
   ]
  },
  {
   "cell_type": "code",
   "execution_count": 1,
   "metadata": {},
   "outputs": [
    {
     "name": "stderr",
     "output_type": "stream",
     "text": [
      "WARNING: All log messages before absl::InitializeLog() is called are written to STDERR\n",
      "I0000 00:00:1728316657.378803 10751030 fork_posix.cc:77] Other threads are currently calling into gRPC, skipping fork() handlers\n",
      "I0000 00:00:1728316657.541883 10751030 fork_posix.cc:77] Other threads are currently calling into gRPC, skipping fork() handlers\n"
     ]
    }
   ],
   "source": [
    "from src.agent import Agent\n",
    "\n",
    "agent = Agent()\n",
    "agent.viz_graph(ipynb=True)"
   ]
  },
  {
   "cell_type": "code",
   "execution_count": 5,
   "metadata": {},
   "outputs": [
    {
     "name": "stderr",
     "output_type": "stream",
     "text": [
      "2024-10-08 13:02:27,344 - INFO - Validated image path: /workspaces/GeoAI/test/test_images/test.jpg\n",
      "2024-10-08 13:02:27,346 - INFO - ====== WebDriver manager ======\n",
      "2024-10-08 13:02:27,365 - INFO - Get LATEST chromedriver version for google-chrome\n",
      "2024-10-08 13:02:27,389 - INFO - About to download new driver from https://chromedriver.storage.googleapis.com/114.0.5735.90/chromedriver_linux64.zip\n",
      "2024-10-08 13:02:27,409 - INFO - Driver downloading response is 200\n"
     ]
    },
    {
     "name": "stderr",
     "output_type": "stream",
     "text": [
      "2024-10-08 13:02:27,486 - INFO - Get LATEST chromedriver version for google-chrome\n",
      "2024-10-08 13:02:27,667 - INFO - Get LATEST chromedriver version for google-chrome\n",
      "2024-10-08 13:02:27,696 - INFO - Driver has been saved in cache [/home/codespace/.wdm/drivers/chromedriver/linux64/114.0.5735.90]\n",
      "2024-10-08 13:02:27,789 - ERROR - Failed to create driver: Message: unknown error: cannot find Chrome binary\n",
      "Stacktrace:\n",
      "#0 0x5b2f43c614e3 <unknown>\n",
      "#1 0x5b2f43990c76 <unknown>\n",
      "#2 0x5b2f439b7757 <unknown>\n",
      "#3 0x5b2f439b6029 <unknown>\n",
      "#4 0x5b2f439f4ccc <unknown>\n",
      "#5 0x5b2f439f447f <unknown>\n",
      "#6 0x5b2f439ebde3 <unknown>\n",
      "#7 0x5b2f439c12dd <unknown>\n",
      "#8 0x5b2f439c234e <unknown>\n",
      "#9 0x5b2f43c213e4 <unknown>\n",
      "#10 0x5b2f43c253d7 <unknown>\n",
      "#11 0x5b2f43c2fb20 <unknown>\n",
      "#12 0x5b2f43c26023 <unknown>\n",
      "#13 0x5b2f43bf41aa <unknown>\n",
      "#14 0x5b2f43c4a6b8 <unknown>\n",
      "#15 0x5b2f43c4a847 <unknown>\n",
      "#16 0x5b2f43c5a243 <unknown>\n",
      "#17 0x758593e63609 start_thread\n",
      "\n",
      "2024-10-08 13:02:27,790 - ERROR - Search failed: Message: unknown error: cannot find Chrome binary\n",
      "Stacktrace:\n",
      "#0 0x5b2f43c614e3 <unknown>\n",
      "#1 0x5b2f43990c76 <unknown>\n",
      "#2 0x5b2f439b7757 <unknown>\n",
      "#3 0x5b2f439b6029 <unknown>\n",
      "#4 0x5b2f439f4ccc <unknown>\n",
      "#5 0x5b2f439f447f <unknown>\n",
      "#6 0x5b2f439ebde3 <unknown>\n",
      "#7 0x5b2f439c12dd <unknown>\n",
      "#8 0x5b2f439c234e <unknown>\n",
      "#9 0x5b2f43c213e4 <unknown>\n",
      "#10 0x5b2f43c253d7 <unknown>\n",
      "#11 0x5b2f43c2fb20 <unknown>\n",
      "#12 0x5b2f43c26023 <unknown>\n",
      "#13 0x5b2f43bf41aa <unknown>\n",
      "#14 0x5b2f43c4a6b8 <unknown>\n",
      "#15 0x5b2f43c4a847 <unknown>\n",
      "#16 0x5b2f43c5a243 <unknown>\n",
      "#17 0x758593e63609 start_thread\n",
      "\n"
     ]
    },
    {
     "name": "stdout",
     "output_type": "stream",
     "text": [
      "Error: Message: unknown error: cannot find Chrome binary\n",
      "Stacktrace:\n",
      "#0 0x5b2f43c614e3 <unknown>\n",
      "#1 0x5b2f43990c76 <unknown>\n",
      "#2 0x5b2f439b7757 <unknown>\n",
      "#3 0x5b2f439b6029 <unknown>\n",
      "#4 0x5b2f439f4ccc <unknown>\n",
      "#5 0x5b2f439f447f <unknown>\n",
      "#6 0x5b2f439ebde3 <unknown>\n",
      "#7 0x5b2f439c12dd <unknown>\n",
      "#8 0x5b2f439c234e <unknown>\n",
      "#9 0x5b2f43c213e4 <unknown>\n",
      "#10 0x5b2f43c253d7 <unknown>\n",
      "#11 0x5b2f43c2fb20 <unknown>\n",
      "#12 0x5b2f43c26023 <unknown>\n",
      "#13 0x5b2f43bf41aa <unknown>\n",
      "#14 0x5b2f43c4a6b8 <unknown>\n",
      "#15 0x5b2f43c4a847 <unknown>\n",
      "#16 0x5b2f43c5a243 <unknown>\n",
      "#17 0x758593e63609 start_thread\n",
      "\n"
     ]
    }
   ],
   "source": [
    "from selenium import webdriver\n",
    "from selenium.webdriver.common.by import By\n",
    "from selenium.webdriver.support.ui import WebDriverWait\n",
    "from selenium.webdriver.support import expected_conditions as EC\n",
    "from selenium.webdriver.chrome.service import Service\n",
    "from webdriver_manager.chrome import ChromeDriverManager\n",
    "import os\n",
    "import logging\n",
    "from selenium.webdriver.common.by import By\n",
    "from selenium.webdriver.support.ui import WebDriverWait\n",
    "from selenium.webdriver.support import expected_conditions as EC\n",
    "\n",
    "\n",
    "def search_by_image(image_path):\n",
    "    # Setup Chrome options\n",
    "    chrome_options = webdriver.ChromeOptions()\n",
    "    # Uncomment the line below if you want to run in headless mode\n",
    "    chrome_options.add_argument(\"--headless\")  # Enable headless mode\n",
    "    chrome_options.add_argument(\"--no-sandbox\")  # Bypass OS security model\n",
    "    chrome_options.add_argument(\"--disable-dev-shm-usage\")  # Overcome limited resource problems\n",
    "\n",
    "    \n",
    "    # Initialize the driver\n",
    "    driver = webdriver.Chrome(service=Service(ChromeDriverManager().install()), \n",
    "                            options=chrome_options)\n",
    "    \n",
    "        # Navigate to Google Images\n",
    "    driver.get(\"https://images.google.com/?hl=en\")\n",
    "    logging.info(\"Navigated to Google Lens\")\n",
    "\n",
    "    accept_button = WebDriverWait(driver, 10).until(EC.element_to_be_clickable((By.ID, 'L2AGLb')))  # Using the button's ID)\n",
    "    accept_button.click()\n",
    "\n",
    "    camera_icon = WebDriverWait(driver, 10).until(EC.element_to_be_clickable((By.XPATH, '//div[@aria-label=\"Search by image\" and @role=\"button\"]')))\n",
    "    camera_icon.click()\n",
    "\n",
    "    # input\n",
    "    file_input = WebDriverWait(driver, 10).until(\n",
    "        EC.presence_of_element_located((By.CSS_SELECTOR, \"input[type='file']\"))\n",
    "    )\n",
    "    \n",
    "    \n",
    "    # Convert to absolute path if needed\n",
    "    abs_image_path = os.path.abspath(image_path)\n",
    "    file_input.send_keys(abs_image_path)\n",
    "    \n",
    "    # Wait for the search results to load\n",
    "    WebDriverWait(driver, 10).until(\n",
    "        EC.presence_of_element_located((By.CSS_SELECTOR, 'div.ksQYvb'))  # Use the updated class name\n",
    "    )\n",
    "\n",
    "    # Locate the divs containing the image results\n",
    "    results = driver.find_elements(By.CSS_SELECTOR, 'div.ksQYvb')  # Find the correct class name for results\n",
    "\n",
    "    valid_results = []\n",
    "    # Extract and print the data attributes and image URLs\n",
    "    for result in results:\n",
    "        # Get the data attributes\n",
    "        title = result.get_attribute('data-item-title')\n",
    "        action_url = result.get_attribute('data-action-url')\n",
    "\n",
    "        # Only consider results with a valid title\n",
    "        if title:\n",
    "            # Get the image URL\n",
    "            try:\n",
    "                image_div = result.find_element(By.CSS_SELECTOR, 'div.Me0cf')  # Locate the image div\n",
    "                img = image_div.find_element(By.TAG_NAME, 'img')  # Locate the image tag\n",
    "                img_src = img.get_attribute('src')  # Get the source URL of the image\n",
    "            except Exception as e:\n",
    "                img_src = \"No image found\"\n",
    "\n",
    "            # Append to valid results\n",
    "            valid_results.append({\n",
    "                'title': title,\n",
    "                'action_url': action_url,\n",
    "                'image_url': img_src\n",
    "            })\n",
    "\n",
    "    # Display only the top 5 results\n",
    "    for i, result in enumerate(valid_results[:5]):\n",
    "        print(f\"Result {i + 1}:\\nTitle: {result['title']}\\nAction URL: {result['action_url']}\\nImage URL: {result['image_url']}\\n\")\n",
    "\n",
    "    driver.quit()\n",
    "    \n",
    "    \n",
    "image_path = \"1.jpg\"  # Replace with your image path\n",
    "search_by_image(image_path)\n",
    "\n",
    "\n"
   ]
  },
  {
   "cell_type": "code",
   "execution_count": null,
   "metadata": {},
   "outputs": [],
   "source": [
    "\n"
   ]
  }
 ],
 "metadata": {
  "kernelspec": {
   "display_name": "Python 3",
   "language": "python",
   "name": "python3"
  },
  "language_info": {
   "codemirror_mode": {
    "name": "ipython",
    "version": 3
   },
   "file_extension": ".py",
   "mimetype": "text/x-python",
   "name": "python",
   "nbconvert_exporter": "python",
   "pygments_lexer": "ipython3",
   "version": "3.12.1"
  }
 },
 "nbformat": 4,
 "nbformat_minor": 2
}
