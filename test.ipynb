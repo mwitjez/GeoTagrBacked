{
 "cells": [
  {
   "cell_type": "code",
   "execution_count": 26,
   "metadata": {},
   "outputs": [
    {
     "data": {
      "text/plain": [
       "True"
      ]
     },
     "execution_count": 26,
     "metadata": {},
     "output_type": "execute_result"
    }
   ],
   "source": [
    "from dotenv import load_dotenv\n",
    "\n",
    "\n",
    "load_dotenv()"
   ]
  },
  {
   "cell_type": "code",
   "execution_count": 1,
   "metadata": {},
   "outputs": [
    {
     "name": "stdout",
     "output_type": "stream",
     "text": [
      "Forward Geocode:\n",
      "[{'place_id': 376947505, 'licence': 'Data © OpenStreetMap contributors, ODbL 1.0. http://osm.org/copyright', 'osm_type': 'node', 'osm_id': 2192620021, 'lat': '37.4217636', 'lon': '-122.084614', 'class': 'office', 'type': 'it', 'place_rank': 30, 'importance': 0.6949356759210291, 'addresstype': 'office', 'name': 'Google Headquarters', 'display_name': 'Google Headquarters, 1600, Amphitheatre Parkway, Mountain View, Santa Clara County, California, 94043, United States', 'address': {'office': 'Google Headquarters', 'house_number': '1600', 'road': 'Amphitheatre Parkway', 'city': 'Mountain View', 'county': 'Santa Clara County', 'state': 'California', 'ISO3166-2-lvl4': 'US-CA', 'postcode': '94043', 'country': 'United States', 'country_code': 'us'}, 'boundingbox': ['37.4217136', '37.4218136', '-122.0846640', '-122.0845640']}]\n",
      "\n",
      "Reverse Geocode:\n",
      "{'place_id': 281801698, 'licence': 'Data © OpenStreetMap contributors, ODbL 1.0. http://osm.org/copyright', 'osm_type': 'way', 'osm_id': 741753433, 'lat': '37.42202505', 'lon': '-122.08407788511707', 'class': 'leisure', 'type': 'outdoor_seating', 'place_rank': 30, 'importance': 9.99999999995449e-06, 'addresstype': 'leisure', 'name': '', 'display_name': 'Amphitheatre Parkway, Mountain View, Santa Clara County, California, 94043, United States', 'address': {'road': 'Amphitheatre Parkway', 'city': 'Mountain View', 'county': 'Santa Clara County', 'state': 'California', 'ISO3166-2-lvl4': 'US-CA', 'postcode': '94043', 'country': 'United States', 'country_code': 'us'}, 'boundingbox': ['37.4219599', '37.4221426', '-122.0842118', '-122.0839386']}\n"
     ]
    }
   ],
   "source": [
    "import requests\n",
    "\n",
    "# Nominatim Base URL\n",
    "BASE_URL = \"https://nominatim.openstreetmap.org/\"\n",
    "\n",
    "# Function for Forward Geocoding (Address to Coordinates)\n",
    "def forward_geocode(address, format=\"json\"):\n",
    "    params = {\n",
    "        'q': address,\n",
    "        'format': format,\n",
    "        'addressdetails': 1,\n",
    "        'limit': 1\n",
    "    }\n",
    "    response = requests.get(BASE_URL + \"search\", params=params)\n",
    "    \n",
    "    if response.status_code == 200:\n",
    "        return response.json()\n",
    "    else:\n",
    "        return {\"error\": \"Failed to fetch data\"}\n",
    "\n",
    "# Function for Reverse Geocoding (Coordinates to Address)\n",
    "def reverse_geocode(lat, lon, format=\"json\"):\n",
    "    params = {\n",
    "        'lat': lat,\n",
    "        'lon': lon,\n",
    "        'format': format,\n",
    "        'addressdetails': 1\n",
    "    }\n",
    "    response = requests.get(BASE_URL + \"reverse\", params=params)\n",
    "    \n",
    "    if response.status_code == 200:\n",
    "        return response.json()\n",
    "    else:\n",
    "        return {\"error\": \"Failed to fetch data\"}\n",
    "\n",
    "# Example Usage\n",
    "if __name__ == \"__main__\":\n",
    "    address = \"1600 Amphitheatre Parkway, Mountain View, CA\"\n",
    "    lat, lon = 37.4221, -122.0841\n",
    "\n",
    "    # Forward Geocode Example\n",
    "    print(\"Forward Geocode:\")\n",
    "    result = forward_geocode(address)\n",
    "    print(result)\n",
    "\n",
    "    # Reverse Geocode Example\n",
    "    print(\"\\nReverse Geocode:\")\n",
    "    result = reverse_geocode(lat, lon)\n",
    "    print(result)\n"
   ]
  },
  {
   "cell_type": "code",
   "execution_count": 6,
   "metadata": {},
   "outputs": [],
   "source": [
    "from ratelimit import limits, sleep_and_retry\n",
    "\n",
    "import requests\n",
    "\n",
    "@sleep_and_retry\n",
    "@limits(calls=1, period=1)\n",
    "def call_api():\n",
    "    print(\"test call!\")"
   ]
  },
  {
   "cell_type": "code",
   "execution_count": 7,
   "metadata": {},
   "outputs": [
    {
     "name": "stdout",
     "output_type": "stream",
     "text": [
      "test call!\n",
      "test call!\n",
      "test call!\n",
      "test call!\n",
      "test call!\n",
      "test call!\n",
      "test call!\n",
      "test call!\n",
      "test call!\n",
      "test call!\n"
     ]
    }
   ],
   "source": [
    "for i in range(10):\n",
    "    call_api()"
   ]
  },
  {
   "cell_type": "code",
   "execution_count": null,
   "metadata": {},
   "outputs": [],
   "source": [
    "\n"
   ]
  }
 ],
 "metadata": {
  "kernelspec": {
   "display_name": "Python 3",
   "language": "python",
   "name": "python3"
  },
  "language_info": {
   "codemirror_mode": {
    "name": "ipython",
    "version": 3
   },
   "file_extension": ".py",
   "mimetype": "text/x-python",
   "name": "python",
   "nbconvert_exporter": "python",
   "pygments_lexer": "ipython3",
   "version": "3.12.1"
  }
 },
 "nbformat": 4,
 "nbformat_minor": 2
}
